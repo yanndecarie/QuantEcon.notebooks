{
  "nbformat": 4,
  "nbformat_minor": 0,
  "metadata": {
    "kernelspec": {
      "display_name": "Python 3",
      "language": "python",
      "name": "python3"
    },
    "language_info": {
      "codemirror_mode": {
        "name": "ipython",
        "version": 3
      },
      "file_extension": ".py",
      "mimetype": "text/x-python",
      "name": "python",
      "nbconvert_exporter": "python",
      "pygments_lexer": "ipython3",
      "version": "3.7.4-final"
    },
    "varInspector": {
      "cols": {
        "lenName": 16,
        "lenType": 16,
        "lenVar": 40
      },
      "kernels_config": {
        "python": {
          "delete_cmd_postfix": "",
          "delete_cmd_prefix": "del ",
          "library": "var_list.py",
          "varRefreshCmd": "print(var_dic_list())"
        },
        "r": {
          "delete_cmd_postfix": ") ",
          "delete_cmd_prefix": "rm(",
          "library": "var_list.r",
          "varRefreshCmd": "cat(var_dic_list()) "
        }
      },
      "types_to_exclude": [
        "module",
        "function",
        "builtin_function_or_method",
        "instance",
        "_Feature"
      ],
      "window_display": false
    },
    "colab": {
      "name": "Validation_google_colab.ipynb",
      "provenance": [],
      "collapsed_sections": [
        "jyFcGzMSlj0A",
        "6YeGSm0Xlj0A",
        "xCE-h4r-lj0B",
        "Y_UGO9eQlj0D",
        "9r4jsnjilj0E",
        "QsEZDhJxlj0G",
        "_3OCGDNFlj0H",
        "bPGn379nlj0H",
        "lvzwSmEelj0H",
        "Ctiu5wTplj0I",
        "g6ukQ4jGlj0J"
      ],
      "toc_visible": true,
      "include_colab_link": true
    }
  },
  "cells": [
    {
      "cell_type": "markdown",
      "metadata": {
        "id": "view-in-github",
        "colab_type": "text"
      },
      "source": [
        "<a href=\"https://colab.research.google.com/github/yanndecarie/QuantEcon.notebooks/blob/master/Validation_google_colab.ipynb\" target=\"_parent\"><img src=\"https://colab.research.google.com/assets/colab-badge.svg\" alt=\"Open In Colab\"/></a>"
      ]
    },
    {
      "cell_type": "markdown",
      "metadata": {
        "id": "fPNKXH6gljz1"
      },
      "source": [
        "# Comparaison entrer les projections de SimGen et de certaines données exsistantes**"
      ]
    },
    {
      "cell_type": "markdown",
      "metadata": {
        "ExecuteTime": {
          "end_time": "2020-04-24T08:55:29.582958Z",
          "start_time": "2020-04-24T08:55:29.579957Z"
        },
        "id": "ABtilk3Uljz4"
      },
      "source": [
        "## Effectuer une simulation avec Simgen\n"
      ]
    },
    {
      "cell_type": "markdown",
      "metadata": {
        "id": "HOCIysnzbDeC"
      },
      "source": [
        "# Import"
      ]
    },
    {
      "cell_type": "code",
      "metadata": {
        "ExecuteTime": {
          "end_time": "2021-01-27T19:39:07.562755Z",
          "start_time": "2021-01-27T19:39:07.558713Z"
        },
        "id": "aSZS3ciTljz4"
      },
      "source": [
        "#import sys\n",
        "import warnings\n",
        "#import pandas as pd \n",
        "import numpy as np\n",
        "#from matplotlib import pyplot as plt\n",
        "warnings.filterwarnings(\"ignore\")"
      ],
      "execution_count": null,
      "outputs": []
    },
    {
      "cell_type": "code",
      "metadata": {
        "colab": {
          "resources": {
            "http://localhost:8080/nbextensions/google.colab/files.js": {
              "data": "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",
              "ok": true,
              "headers": [
                [
                  "content-type",
                  "application/javascript"
                ]
              ],
              "status": 200,
              "status_text": ""
            }
          },
          "base_uri": "https://localhost:8080/",
          "height": 72
        },
        "id": "UXf1fsbbaX29",
        "outputId": "032cca81-1a2d-481f-8799-99a323bbfbf3"
      },
      "source": [
        "from google.colab import files\n",
        "uploaded = files.upload()"
      ],
      "execution_count": null,
      "outputs": [
        {
          "output_type": "display_data",
          "data": {
            "text/html": [
              "\n",
              "     <input type=\"file\" id=\"files-b12b0a40-6139-4ee3-868d-5b075c1240db\" name=\"files[]\" multiple disabled\n",
              "        style=\"border:none\" />\n",
              "     <output id=\"result-b12b0a40-6139-4ee3-868d-5b075c1240db\">\n",
              "      Upload widget is only available when the cell has been executed in the\n",
              "      current browser session. Please rerun this cell to enable.\n",
              "      </output>\n",
              "      <script src=\"/nbextensions/google.colab/files.js\"></script> "
            ],
            "text/plain": [
              "<IPython.core.display.HTML object>"
            ]
          },
          "metadata": {
            "tags": []
          }
        },
        {
          "output_type": "stream",
          "text": [
            "Saving bdsps2017_slice.csv to bdsps2017_slice.csv\n"
          ],
          "name": "stdout"
        }
      ]
    },
    {
      "cell_type": "code",
      "metadata": {
        "colab": {
          "base_uri": "https://localhost:8080/"
        },
        "id": "H3zbPeORTeO1",
        "outputId": "4afe0e9b-ba6a-46f9-9b61-5fa1c8ddb920"
      },
      "source": [
        "from google.colab import output\n",
        "!pip install -U iPython"
      ],
      "execution_count": null,
      "outputs": [
        {
          "output_type": "stream",
          "text": [
            "Requirement already up-to-date: iPython in /usr/local/lib/python3.6/dist-packages (7.16.1)\n",
            "Requirement already satisfied, skipping upgrade: jedi>=0.10 in /usr/local/lib/python3.6/dist-packages (from iPython) (0.18.0)\n",
            "Requirement already satisfied, skipping upgrade: backcall in /usr/local/lib/python3.6/dist-packages (from iPython) (0.2.0)\n",
            "Requirement already satisfied, skipping upgrade: pickleshare in /usr/local/lib/python3.6/dist-packages (from iPython) (0.7.5)\n",
            "Requirement already satisfied, skipping upgrade: decorator in /usr/local/lib/python3.6/dist-packages (from iPython) (4.4.2)\n",
            "Requirement already satisfied, skipping upgrade: prompt-toolkit!=3.0.0,!=3.0.1,<3.1.0,>=2.0.0 in /usr/local/lib/python3.6/dist-packages (from iPython) (3.0.16)\n",
            "Requirement already satisfied, skipping upgrade: pexpect; sys_platform != \"win32\" in /usr/local/lib/python3.6/dist-packages (from iPython) (4.8.0)\n",
            "Requirement already satisfied, skipping upgrade: traitlets>=4.2 in /usr/local/lib/python3.6/dist-packages (from iPython) (4.3.3)\n",
            "Requirement already satisfied, skipping upgrade: pygments in /usr/local/lib/python3.6/dist-packages (from iPython) (2.6.1)\n",
            "Requirement already satisfied, skipping upgrade: setuptools>=18.5 in /usr/local/lib/python3.6/dist-packages (from iPython) (53.0.0)\n",
            "Requirement already satisfied, skipping upgrade: parso<0.9.0,>=0.8.0 in /usr/local/lib/python3.6/dist-packages (from jedi>=0.10->iPython) (0.8.1)\n",
            "Requirement already satisfied, skipping upgrade: wcwidth in /usr/local/lib/python3.6/dist-packages (from prompt-toolkit!=3.0.0,!=3.0.1,<3.1.0,>=2.0.0->iPython) (0.2.5)\n",
            "Requirement already satisfied, skipping upgrade: ptyprocess>=0.5 in /usr/local/lib/python3.6/dist-packages (from pexpect; sys_platform != \"win32\"->iPython) (0.7.0)\n",
            "Requirement already satisfied, skipping upgrade: six in /usr/local/lib/python3.6/dist-packages (from traitlets>=4.2->iPython) (1.15.0)\n",
            "Requirement already satisfied, skipping upgrade: ipython-genutils in /usr/local/lib/python3.6/dist-packages (from traitlets>=4.2->iPython) (0.2.0)\n"
          ],
          "name": "stdout"
        }
      ]
    },
    {
      "cell_type": "markdown",
      "metadata": {
        "id": "5T244TEQbMja"
      },
      "source": [
        "# File\n"
      ]
    },
    {
      "cell_type": "code",
      "metadata": {
        "id": "CFPSm8BrUxV9"
      },
      "source": [
        "from IPython.core.interactiveshell import InteractiveShell\n",
        "InteractiveShell.ast_node_interactivity = \"all\""
      ],
      "execution_count": null,
      "outputs": []
    },
    {
      "cell_type": "markdown",
      "metadata": {
        "id": "XSBUK6Z1JoBj"
      },
      "source": [
        "## Installation de SimGen"
      ]
    },
    {
      "cell_type": "code",
      "metadata": {
        "id": "0ks7zi4dlrdd"
      },
      "source": [
        "pip install -i https://test.pypi.org/simple/ simgen==0.0.5"
      ],
      "execution_count": null,
      "outputs": []
    },
    {
      "cell_type": "code",
      "metadata": {
        "id": "SUZFW6B5JyKE"
      },
      "source": [
        "import simgen\n",
        "from simgen import model"
      ],
      "execution_count": null,
      "outputs": []
    },
    {
      "cell_type": "code",
      "metadata": {
        "id": "NHJ0QuD3uCVu"
      },
      "source": [
        "from simgen import bdsps, parse, population"
      ],
      "execution_count": null,
      "outputs": []
    },
    {
      "cell_type": "code",
      "metadata": {
        "ExecuteTime": {
          "end_time": "2021-01-27T19:39:10.972874Z",
          "start_time": "2021-01-27T19:39:09.373458Z"
        },
        "id": "RtroCMB-ljz5"
      },
      "source": [
        "hh,sp,kd = bdsps('/usr/local/lib/python3.6/dist-packages/simgen/start_pop/bdsps2017_slice.csv', file_format='.csv')\n",
        "imm = hh[hh.newimm]\n",
        "imm_nas = imm.index\n",
        "sp_imm = sp.loc[sp.index.isin(imm_nas),:]\n",
        "kd_imm = kd.loc[kd.index.isin(imm_nas),:]\n",
        "parsing = parse()\n",
        "parsing.map_hh['educ'] = 'educ4'\n",
        "parsing.map_hh['insch'] = 'inschool'\n",
        "parsing.map_sp['educ'] = 'educ4'\n",
        "parsing.map_sp['insch'] = 'inschool'\n",
        "parsing.map_kd['insch'] = 'inschool'\n",
        "hh = parsing.dominants(hh)\n",
        "sp = parsing.spouses(sp)\n",
        "kd = parsing.kids(kd)\n",
        "imm = parsing.dominants(imm)\n",
        "sp_imm = parsing.spouses(sp_imm)\n",
        "kd_imm = parsing.kids(kd_imm)\n",
        "pop = population()\n",
        "pop.input(hh,sp,kd)\n",
        "pop.save('startpop')"
      ],
      "execution_count": null,
      "outputs": []
    },
    {
      "cell_type": "code",
      "metadata": {
        "id": "eYL1ou-OL6YM"
      },
      "source": [
        "newimm = population()\n",
        "newimm.input(imm,sp_imm,kd_imm)\n",
        "newimm.save('newimmpop')"
      ],
      "execution_count": null,
      "outputs": []
    },
    {
      "cell_type": "code",
      "metadata": {
        "ExecuteTime": {
          "end_time": "2021-01-27T19:39:10.982394Z",
          "start_time": "2021-01-27T19:39:10.977514Z"
        },
        "id": "P4hejOjCljz6"
      },
      "source": [
        "yr_debut=2017\n",
        "yr_fin=2020"
      ],
      "execution_count": null,
      "outputs": []
    },
    {
      "cell_type": "code",
      "metadata": {
        "ExecuteTime": {
          "end_time": "2021-01-27T19:39:12.107122Z",
          "start_time": "2021-01-27T19:39:11.762709Z"
        },
        "id": "r7Bbvgvwljz6"
      },
      "source": [
        "base = model(start_yr=yr_debut,stop_yr=yr_fin)\n",
        "base.startpop('/content/startpop')\n",
        "base.immig_assumptions(init='/content/newimmpop')\n",
        "base.birth_assumptions(scenario='reference')\n",
        "base.dead_assumptions(scenario='low')\n",
        "base.risk_iso_assumtions(params_set=1)"
      ],
      "execution_count": null,
      "outputs": []
    },
    {
      "cell_type": "code",
      "metadata": {
        "ExecuteTime": {
          "end_time": "2021-01-27T19:39:27.719062Z",
          "start_time": "2021-01-27T19:39:12.780984Z"
        },
        "id": "UM-2G441ljz6",
        "colab": {
          "base_uri": "https://localhost:8080/"
        },
        "outputId": "2fe2920b-618c-4d76-bfd7-6d2dd0725bc4"
      },
      "source": [
        "base.simulate(rep=1)"
      ],
      "execution_count": null,
      "outputs": [
        {
          "output_type": "stream",
          "text": [
            ""
          ],
          "name": "stdout"
        }
      ]
    },
    {
      "cell_type": "code",
      "metadata": {
        "colab": {
          "base_uri": "https://localhost:8080/"
        },
        "id": "VL-KW4AHWGnh",
        "outputId": "a42110af-4f29-4e72-e01b-5df0a05571c9"
      },
      "source": [
        "print(yr_fin)"
      ],
      "execution_count": null,
      "outputs": [
        {
          "output_type": "stream",
          "text": [
            "2020\n"
          ],
          "name": "stdout"
        }
      ]
    },
    {
      "cell_type": "code",
      "metadata": {
        "ExecuteTime": {
          "end_time": "2021-01-27T19:39:27.725162Z",
          "start_time": "2021-01-27T19:39:27.722178Z"
        },
        "id": "902P87AAljz7"
      },
      "source": [
        "#base.stats.save('simpop_iso.pkl')"
      ],
      "execution_count": null,
      "outputs": []
    },
    {
      "cell_type": "markdown",
      "metadata": {
        "id": "PD_zxHQfljz7"
      },
      "source": [
        "## Extraction des résultats\n",
        "Creation de \"DataFrame\" contenant la population totale par sexe"
      ]
    },
    {
      "cell_type": "code",
      "metadata": {
        "ExecuteTime": {
          "end_time": "2021-01-27T19:39:27.775734Z",
          "start_time": "2021-01-27T19:39:27.728320Z"
        },
        "id": "Vq4pHLsiljz7",
        "colab": {
          "base_uri": "https://localhost:8080/",
          "height": 450
        },
        "outputId": "c88d5a64-1922-4b6a-f669-7393ab79256a"
      },
      "source": [
        "base.stats.counts"
      ],
      "execution_count": null,
      "outputs": [
        {
          "output_type": "execute_result",
          "data": {
            "text/html": [
              "<div>\n",
              "<style scoped>\n",
              "    .dataframe tbody tr th:only-of-type {\n",
              "        vertical-align: middle;\n",
              "    }\n",
              "\n",
              "    .dataframe tbody tr th {\n",
              "        vertical-align: top;\n",
              "    }\n",
              "\n",
              "    .dataframe thead th {\n",
              "        text-align: right;\n",
              "    }\n",
              "</style>\n",
              "<table border=\"1\" class=\"dataframe\">\n",
              "  <thead>\n",
              "    <tr style=\"text-align: right;\">\n",
              "      <th></th>\n",
              "      <th></th>\n",
              "      <th></th>\n",
              "      <th></th>\n",
              "      <th></th>\n",
              "      <th></th>\n",
              "      <th></th>\n",
              "      <th>2017</th>\n",
              "      <th>2018</th>\n",
              "      <th>2019</th>\n",
              "      <th>2020</th>\n",
              "      <th>2021</th>\n",
              "    </tr>\n",
              "    <tr>\n",
              "      <th>age</th>\n",
              "      <th>male</th>\n",
              "      <th>insch</th>\n",
              "      <th>educ</th>\n",
              "      <th>married</th>\n",
              "      <th>nkids</th>\n",
              "      <th>risk_iso</th>\n",
              "      <th></th>\n",
              "      <th></th>\n",
              "      <th></th>\n",
              "      <th></th>\n",
              "      <th></th>\n",
              "    </tr>\n",
              "  </thead>\n",
              "  <tbody>\n",
              "    <tr>\n",
              "      <th rowspan=\"2\" valign=\"top\">0</th>\n",
              "      <th>False</th>\n",
              "      <th>False</th>\n",
              "      <th>none</th>\n",
              "      <th>False</th>\n",
              "      <th>0</th>\n",
              "      <th>False</th>\n",
              "      <td>41136.960108</td>\n",
              "      <td>43691.811134</td>\n",
              "      <td>41574.400048</td>\n",
              "      <td>42110.676392</td>\n",
              "      <td>41411.468399</td>\n",
              "    </tr>\n",
              "    <tr>\n",
              "      <th>True</th>\n",
              "      <th>False</th>\n",
              "      <th>none</th>\n",
              "      <th>False</th>\n",
              "      <th>0</th>\n",
              "      <th>False</th>\n",
              "      <td>43243.726267</td>\n",
              "      <td>39752.970586</td>\n",
              "      <td>41926.798720</td>\n",
              "      <td>41829.411217</td>\n",
              "      <td>42908.994513</td>\n",
              "    </tr>\n",
              "    <tr>\n",
              "      <th rowspan=\"3\" valign=\"top\">1</th>\n",
              "      <th rowspan=\"3\" valign=\"top\">False</th>\n",
              "      <th rowspan=\"3\" valign=\"top\">False</th>\n",
              "      <th rowspan=\"3\" valign=\"top\">dec</th>\n",
              "      <th rowspan=\"3\" valign=\"top\">False</th>\n",
              "      <th>0</th>\n",
              "      <th>False</th>\n",
              "      <td>0.000000</td>\n",
              "      <td>0.000000</td>\n",
              "      <td>0.000000</td>\n",
              "      <td>0.000000</td>\n",
              "      <td>0.000000</td>\n",
              "    </tr>\n",
              "    <tr>\n",
              "      <th>1</th>\n",
              "      <th>False</th>\n",
              "      <td>0.000000</td>\n",
              "      <td>0.000000</td>\n",
              "      <td>0.000000</td>\n",
              "      <td>0.000000</td>\n",
              "      <td>0.000000</td>\n",
              "    </tr>\n",
              "    <tr>\n",
              "      <th>2</th>\n",
              "      <th>False</th>\n",
              "      <td>0.000000</td>\n",
              "      <td>0.000000</td>\n",
              "      <td>0.000000</td>\n",
              "      <td>0.000000</td>\n",
              "      <td>0.000000</td>\n",
              "    </tr>\n",
              "    <tr>\n",
              "      <th>...</th>\n",
              "      <th>...</th>\n",
              "      <th>...</th>\n",
              "      <th>...</th>\n",
              "      <th>...</th>\n",
              "      <th>...</th>\n",
              "      <th>...</th>\n",
              "      <td>...</td>\n",
              "      <td>...</td>\n",
              "      <td>...</td>\n",
              "      <td>...</td>\n",
              "      <td>...</td>\n",
              "    </tr>\n",
              "    <tr>\n",
              "      <th rowspan=\"5\" valign=\"top\">110</th>\n",
              "      <th rowspan=\"5\" valign=\"top\">True</th>\n",
              "      <th rowspan=\"5\" valign=\"top\">True</th>\n",
              "      <th rowspan=\"5\" valign=\"top\">uni</th>\n",
              "      <th rowspan=\"5\" valign=\"top\">True</th>\n",
              "      <th>1</th>\n",
              "      <th>False</th>\n",
              "      <td>0.000000</td>\n",
              "      <td>0.000000</td>\n",
              "      <td>0.000000</td>\n",
              "      <td>0.000000</td>\n",
              "      <td>0.000000</td>\n",
              "    </tr>\n",
              "    <tr>\n",
              "      <th>2</th>\n",
              "      <th>False</th>\n",
              "      <td>0.000000</td>\n",
              "      <td>0.000000</td>\n",
              "      <td>0.000000</td>\n",
              "      <td>0.000000</td>\n",
              "      <td>0.000000</td>\n",
              "    </tr>\n",
              "    <tr>\n",
              "      <th>3</th>\n",
              "      <th>False</th>\n",
              "      <td>0.000000</td>\n",
              "      <td>0.000000</td>\n",
              "      <td>0.000000</td>\n",
              "      <td>0.000000</td>\n",
              "      <td>0.000000</td>\n",
              "    </tr>\n",
              "    <tr>\n",
              "      <th>4</th>\n",
              "      <th>False</th>\n",
              "      <td>0.000000</td>\n",
              "      <td>0.000000</td>\n",
              "      <td>0.000000</td>\n",
              "      <td>0.000000</td>\n",
              "      <td>0.000000</td>\n",
              "    </tr>\n",
              "    <tr>\n",
              "      <th>5</th>\n",
              "      <th>False</th>\n",
              "      <td>0.000000</td>\n",
              "      <td>0.000000</td>\n",
              "      <td>0.000000</td>\n",
              "      <td>0.000000</td>\n",
              "      <td>0.000000</td>\n",
              "    </tr>\n",
              "  </tbody>\n",
              "</table>\n",
              "<p>21587 rows × 5 columns</p>\n",
              "</div>"
            ],
            "text/plain": [
              "                                                     2017  ...          2021\n",
              "age male  insch educ married nkids risk_iso                ...              \n",
              "0   False False none False   0     False     41136.960108  ...  41411.468399\n",
              "    True  False none False   0     False     43243.726267  ...  42908.994513\n",
              "1   False False dec  False   0     False         0.000000  ...      0.000000\n",
              "                             1     False         0.000000  ...      0.000000\n",
              "                             2     False         0.000000  ...      0.000000\n",
              "...                                                   ...  ...           ...\n",
              "110 True  True  uni  True    1     False         0.000000  ...      0.000000\n",
              "                             2     False         0.000000  ...      0.000000\n",
              "                             3     False         0.000000  ...      0.000000\n",
              "                             4     False         0.000000  ...      0.000000\n",
              "                             5     False         0.000000  ...      0.000000\n",
              "\n",
              "[21587 rows x 5 columns]"
            ]
          },
          "metadata": {
            "tags": []
          },
          "execution_count": 20
        }
      ]
    },
    {
      "cell_type": "code",
      "metadata": {
        "ExecuteTime": {
          "end_time": "2021-01-27T19:40:33.576043Z",
          "start_time": "2021-01-27T19:40:33.387369Z"
        },
        "id": "ZEsl9y2yljz8",
        "colab": {
          "base_uri": "https://localhost:8080/",
          "height": 130
        },
        "outputId": "67a919b0-444a-45c0-b6f2-dafa2fb75f1c"
      },
      "source": [
        "iso_65p=base.stats.freq('iso_smaf', sub='age>=75 and age <=84)\n",
        "iso_65p=base.stats.prop('iso_smaf', sub='age>=75 and age <=84)\n",
        "iso_65p.T[2020]"
      ],
      "execution_count": null,
      "outputs": [
        {
          "output_type": "error",
          "ename": "SyntaxError",
          "evalue": "ignored",
          "traceback": [
            "\u001b[0;36m  File \u001b[0;32m\"<ipython-input-15-6945a94a1594>\"\u001b[0;36m, line \u001b[0;32m1\u001b[0m\n\u001b[0;31m    iso_65p=base.stats.freq('iso_smaf', sub='age>=75 and age <=84)\u001b[0m\n\u001b[0m                                                                  ^\u001b[0m\n\u001b[0;31mSyntaxError\u001b[0m\u001b[0;31m:\u001b[0m EOL while scanning string literal\n"
          ]
        }
      ]
    },
    {
      "cell_type": "code",
      "metadata": {
        "ExecuteTime": {
          "end_time": "2020-11-23T22:25:23.482807Z",
          "start_time": "2020-11-23T22:25:23.161621Z"
        },
        "id": "9sQJxk26ljz8"
      },
      "source": [
        "base.stats.freq('iso_smaf', sub='age>=75 and iso_smaf>0').plot.area()"
      ],
      "execution_count": null,
      "outputs": []
    },
    {
      "cell_type": "code",
      "metadata": {
        "ExecuteTime": {
          "end_time": "2020-11-23T22:25:23.750183Z",
          "start_time": "2020-11-23T22:25:23.484356Z"
        },
        "id": "J0zQapo_ljz8"
      },
      "source": [
        "base.stats.freq('iso_smaf', sub='age>=85 and iso_smaf>0').plot.area()"
      ],
      "execution_count": null,
      "outputs": []
    },
    {
      "cell_type": "code",
      "metadata": {
        "ExecuteTime": {
          "end_time": "2020-11-23T22:25:23.920229Z",
          "start_time": "2020-11-23T22:25:23.751833Z"
        },
        "id": "Z6M0Y_F1ljz8"
      },
      "source": [
        "prop_2020_65=base.stats.freq('iso_smaf', sub='age>=65 and iso_smaf>0').T[2020]/base.stats.freq('iso_smaf', sub='age>=65 and iso_smaf>0').T[2020].sum()\n",
        "prop_2020_65.plot.bar()"
      ],
      "execution_count": null,
      "outputs": []
    },
    {
      "cell_type": "code",
      "metadata": {
        "ExecuteTime": {
          "end_time": "2020-11-23T22:25:24.091476Z",
          "start_time": "2020-11-23T22:25:23.922022Z"
        },
        "id": "FqH6RYA7ljz8"
      },
      "source": [
        "prop_2020_75=(base.stats.freq('iso_smaf', sub='age>=75 and iso_smaf>0').T[2020]\n",
        "              /base.stats.freq('iso_smaf', sub='age>=75 and iso_smaf>0').T[2020].sum())\n",
        "prop_2020_75.plot.bar()"
      ],
      "execution_count": null,
      "outputs": []
    },
    {
      "cell_type": "code",
      "metadata": {
        "ExecuteTime": {
          "end_time": "2020-11-23T22:25:24.253142Z",
          "start_time": "2020-11-23T22:25:24.093522Z"
        },
        "scrolled": true,
        "id": "g-UdheIwljz9"
      },
      "source": [
        "prop_2020_85=(base.stats.freq('iso_smaf', sub='age>=85 and iso_smaf>0').T[2020]\n",
        "              /base.stats.freq('iso_smaf', sub='age>=85 and iso_smaf>0').T[2020].sum())\n",
        "prop_2020_85.plot.bar()"
      ],
      "execution_count": null,
      "outputs": []
    },
    {
      "cell_type": "code",
      "metadata": {
        "ExecuteTime": {
          "end_time": "2021-01-27T19:40:49.090095Z",
          "start_time": "2021-01-27T19:40:48.793314Z"
        },
        "id": "0roTdFCXljz9"
      },
      "source": [
        "base.stats.prop('risk_iso', sub='age>=65 and age<70').plot()"
      ],
      "execution_count": null,
      "outputs": []
    },
    {
      "cell_type": "code",
      "metadata": {
        "ExecuteTime": {
          "end_time": "2020-11-23T22:25:24.584165Z",
          "start_time": "2020-11-23T22:25:24.415838Z"
        },
        "id": "vnwQVCDmljz9"
      },
      "source": [
        "base.stats.prop('risk_iso', sub='age>=70 and age<75').plot()"
      ],
      "execution_count": null,
      "outputs": []
    },
    {
      "cell_type": "code",
      "metadata": {
        "ExecuteTime": {
          "end_time": "2020-11-23T22:25:24.748348Z",
          "start_time": "2020-11-23T22:25:24.585747Z"
        },
        "id": "MStjLVMjljz9"
      },
      "source": [
        "base.stats.prop('risk_iso', sub='age>=85').plot()"
      ],
      "execution_count": null,
      "outputs": []
    },
    {
      "cell_type": "code",
      "metadata": {
        "ExecuteTime": {
          "end_time": "2020-11-23T22:25:24.912505Z",
          "start_time": "2020-11-23T22:25:24.749898Z"
        },
        "id": "z7YGCd3jljz9"
      },
      "source": [
        "base.stats.prop('risk_iso', sub='age>=95').plot()"
      ],
      "execution_count": null,
      "outputs": []
    },
    {
      "cell_type": "code",
      "metadata": {
        "ExecuteTime": {
          "end_time": "2020-11-23T22:25:24.941136Z",
          "start_time": "2020-11-23T22:25:24.914214Z"
        },
        "id": "YFIsF7OEljz9"
      },
      "source": [
        "pop =base.stats.freq()\n",
        "pop_m=base.stats.freq(sub='male==True')\n",
        "pop_f=base.stats.freq(sub='male==False')"
      ],
      "execution_count": null,
      "outputs": []
    },
    {
      "cell_type": "markdown",
      "metadata": {
        "id": "4tYUj9vCljz-"
      },
      "source": [
        "Creation de \"DataFrame\" contenant la populaton par groupe d'âge"
      ]
    },
    {
      "cell_type": "code",
      "metadata": {
        "ExecuteTime": {
          "end_time": "2020-11-23T22:25:24.974998Z",
          "start_time": "2020-11-23T22:25:24.942907Z"
        },
        "id": "tWkeX-mrljz-"
      },
      "source": [
        "pop_age=base.stats.freq('age')\n",
        "bins=[-1,4,9,14,19,24,29,34,39,44,49,54,59,64,69,74,79,84,89,101]\n",
        "bins_3=[-1,24,64,101]\n",
        "pop_age_gr=base.stats.freq('age', bins=bins)\n",
        "pop_age_gr.columns= pop_age_gr.columns.astype('str')\n",
        "pop_age_gr3=base.stats.freq('age', bins=bins_3)\n",
        "pop_age_gr3.columns= pop_age_gr3.columns.astype('str')"
      ],
      "execution_count": null,
      "outputs": []
    },
    {
      "cell_type": "code",
      "metadata": {
        "ExecuteTime": {
          "end_time": "2020-11-23T22:27:53.920454Z",
          "start_time": "2020-11-23T22:27:53.714775Z"
        },
        "id": "rCpBu5oGljz-",
        "colab": {
          "base_uri": "https://localhost:8080/",
          "height": 282
        },
        "outputId": "84af7626-d1ea-44aa-e33d-46bec4f5023b"
      },
      "source": [
        "base.stats.freq('age', sub=\"age<=5\").plot()"
      ],
      "execution_count": null,
      "outputs": [
        {
          "output_type": "execute_result",
          "data": {
            "text/plain": [
              "<matplotlib.axes._subplots.AxesSubplot at 0x7f91a906bdd8>"
            ]
          },
          "metadata": {
            "tags": []
          },
          "execution_count": 22
        },
        {
          "output_type": "display_data",
          "data": {
            "image/png": "[encoded data removed]",
            "text/plain": [
              "<Figure size 432x288 with 1 Axes>"
            ]
          },
          "metadata": {
            "tags": [],
            "needs_background": "light"
          }
        }
      ]
    },
    {
      "cell_type": "code",
      "metadata": {
        "ExecuteTime": {
          "end_time": "2020-11-23T18:36:08.238092Z",
          "start_time": "2020-11-23T18:36:08.042104Z"
        },
        "id": "-It6lUc8ljz-"
      },
      "source": [
        "base.stats.freq('age', sub=\"age>=6 and age<=10\").plot()"
      ],
      "execution_count": null,
      "outputs": []
    },
    {
      "cell_type": "code",
      "metadata": {
        "ExecuteTime": {
          "end_time": "2020-11-23T18:36:08.456877Z",
          "start_time": "2020-11-23T18:36:08.244953Z"
        },
        "id": "8EoRiy3Zljz-"
      },
      "source": [
        "base.stats.freq('age', sub=\"age>=11 and age<=16\").plot()"
      ],
      "execution_count": null,
      "outputs": []
    },
    {
      "cell_type": "markdown",
      "metadata": {
        "ExecuteTime": {
          "end_time": "2020-04-24T08:39:31.233808Z",
          "start_time": "2020-04-24T08:39:31.230795Z"
        },
        "id": "1U0KY4Hrljz-"
      },
      "source": [
        "On charge ici les données provenant des derninères projections de l'ISQ. \n",
        "\n",
        "Il s'agit de projections de population basées sur le scénario moyen de l'ISQ à partir des données corrigées du recensement de 2016. Pour plus d'information concernant la méthodologie utilisée pour le calcul des projections de population, veuillez-vous référer au rapport « Perspectives démographiques du Québec et des régions, 2016-2066, édition 2019 » produit par l'ISQ à l'adresse suivante :\n",
        "\n",
        "https://www.stat.gouv.qc.ca/statistiques/population-demographie/perspectives/perspectives-2016-2066.pdf\n",
        "\n",
        "Pour la population de 1996-2018, il s'agit d'estimations de population constituant une série historique de populations comparables ayant servi à la construction des projections de population basées sur le recensement de 2016."
      ]
    },
    {
      "cell_type": "code",
      "metadata": {
        "ExecuteTime": {
          "end_time": "2020-11-23T18:36:08.474347Z",
          "start_time": "2020-11-23T18:36:08.460709Z"
        },
        "id": "AWKV4I2jljz_"
      },
      "source": [
        "pop_isq = pd.read_csv(path_data+'isq_pop_age_1996_2041.csv', sep=';')\n",
        "pop_isq = pop_isq.set_index('year')"
      ],
      "execution_count": null,
      "outputs": []
    },
    {
      "cell_type": "markdown",
      "metadata": {
        "id": "K1_7fl-tljz_"
      },
      "source": [
        "Population totale par âge sexe"
      ]
    },
    {
      "cell_type": "code",
      "metadata": {
        "ExecuteTime": {
          "end_time": "2020-11-23T18:36:08.485255Z",
          "start_time": "2020-11-23T18:36:08.475906Z"
        },
        "id": "SsptMpStljz_"
      },
      "source": [
        "pop_isq_age = pop_isq.drop(['total'],axis=1)\n",
        "pop_isq_age_tot=pop_isq_age.loc[pop_isq['sex']=='all']\n",
        "pop_isq_age_tot_m=pop_isq_age.loc[pop_isq['sex']=='male']\n",
        "pop_isq_age_tot_f=pop_isq_age.loc[pop_isq['sex']=='female']\n",
        "pop_isq_age_tot = pop_isq_age_tot.drop(['sex'],axis=1)\n",
        "pop_isq_age_tot_m = pop_isq_age_tot_m.drop(['sex'],axis=1)\n",
        "pop_isq_age_tot_f = pop_isq_age_tot_f.drop(['sex'],axis=1)"
      ],
      "execution_count": null,
      "outputs": []
    },
    {
      "cell_type": "markdown",
      "metadata": {
        "id": "GhtoYuVmljz_"
      },
      "source": [
        "Population par groupe d'âge"
      ]
    },
    {
      "cell_type": "code",
      "metadata": {
        "ExecuteTime": {
          "end_time": "2020-11-23T18:36:08.508146Z",
          "start_time": "2020-11-23T18:36:08.486695Z"
        },
        "id": "mUexQD7uljz_"
      },
      "source": [
        "pop_isq_age_tot_trans = pop_isq_age_tot.T\n",
        "pop_isq_age_tot_trans\n",
        "pop_isq_age_tot_trans['age']= range(0,91)\n",
        "bins=list(range(0,96,5))\n",
        "bins_3=[0,25,65,91]\n",
        "pop_isq_age_tot_trans['agegr'] = pd.cut(pop_isq_age_tot_trans['age'], bins=bins, right=False)\n",
        "gr=pop_isq_age_tot_trans.groupby(['agegr']).sum()\n",
        "pop_isq_agegr_tot=gr.drop(['age'],axis=1).T\n",
        "pop_isq_agegr_tot.columns= pop_isq_agegr_tot.columns.astype('str')\n",
        "pop_isq_agegr_tot = pop_isq_agegr_tot[pop_isq_agegr_tot.index>=2017]\n",
        "pop_isq_age_tot_trans['agegr'] = pd.cut(pop_isq_age_tot_trans['age'], bins=bins_3, right=False)\n",
        "gr=pop_isq_age_tot_trans.groupby(['agegr']).sum()\n",
        "pop_isq_agegr3_tot=gr.drop(['age'],axis=1).T\n",
        "pop_isq_agegr3_tot.columns= pop_isq_agegr3_tot.columns.astype('str')\n",
        "pop_isq_agegr3_tot = pop_isq_agegr3_tot[pop_isq_agegr3_tot.index>=2017]"
      ],
      "execution_count": null,
      "outputs": []
    },
    {
      "cell_type": "markdown",
      "metadata": {
        "ExecuteTime": {
          "end_time": "2020-04-24T14:16:18.181597Z",
          "start_time": "2020-04-24T14:16:18.178108Z"
        },
        "id": "ZYpfiV1oljz_"
      },
      "source": [
        "Population totale par sexe"
      ]
    },
    {
      "cell_type": "code",
      "metadata": {
        "ExecuteTime": {
          "end_time": "2020-11-23T18:36:08.516798Z",
          "start_time": "2020-11-23T18:36:08.509821Z"
        },
        "scrolled": true,
        "id": "pRoh3Jkflj0A"
      },
      "source": [
        "pop_isq_total=pop_isq.loc[pop_isq['sex']=='all']\n",
        "pop_isq_total =pop_isq_total['total']\n",
        "pop_isq_total_m = pop_isq.loc[pop_isq['sex']=='male']\n",
        "pop_isq_total_m =pop_isq_total_m['total']\n",
        "pop_isq_total_f = pop_isq.loc[pop_isq['sex']=='female']\n",
        "pop_isq_total_f =pop_isq_total_f['total']"
      ],
      "execution_count": null,
      "outputs": []
    },
    {
      "cell_type": "markdown",
      "metadata": {
        "ExecuteTime": {
          "end_time": "2020-04-22T18:03:17.946829Z",
          "start_time": "2020-04-22T18:03:17.941694Z"
        },
        "id": "RmoX1EJElj0A"
      },
      "source": [
        "## Figue comparaison population\n",
        "\n",
        "### Population totale "
      ]
    },
    {
      "cell_type": "code",
      "metadata": {
        "ExecuteTime": {
          "end_time": "2020-11-23T18:36:08.667019Z",
          "start_time": "2020-11-23T18:36:08.518402Z"
        },
        "id": "krokQo-wlj0A"
      },
      "source": [
        "plt.figure(figsize=(10,5))\n",
        "plt.plot(pop_isq_total, label='isq')\n",
        "plt.plot(pop, label='simgen', linestyle='dashed')\n",
        "plt.legend()\n",
        "plt.title('Comparaison population totale')\n",
        "plt.show()"
      ],
      "execution_count": null,
      "outputs": []
    },
    {
      "cell_type": "markdown",
      "metadata": {
        "id": "jyFcGzMSlj0A"
      },
      "source": [
        "### Comparaison popuation par sexe"
      ]
    },
    {
      "cell_type": "code",
      "metadata": {
        "ExecuteTime": {
          "end_time": "2020-11-23T18:36:08.887446Z",
          "start_time": "2020-11-23T18:36:08.668629Z"
        },
        "id": "2h_GEnQvlj0A"
      },
      "source": [
        "plt.figure(figsize=(10,5))\n",
        "plt.plot(pop_isq_total_m[pop_isq_total_m.index>=2017], label='isq')\n",
        "plt.plot(pop_m, label='simgen', linestyle='dashed')\n",
        "plt.legend()\n",
        "plt.title('Comparaison population homme')\n",
        "plt.show()"
      ],
      "execution_count": null,
      "outputs": []
    },
    {
      "cell_type": "code",
      "metadata": {
        "ExecuteTime": {
          "end_time": "2020-11-23T18:36:09.041119Z",
          "start_time": "2020-11-23T18:36:08.889002Z"
        },
        "id": "aQTyUf6nlj0A"
      },
      "source": [
        "plt.figure(figsize=(10,5))\n",
        "plt.plot(pop_isq_total_f[pop_isq_total_m.index>=2017], label='isq')\n",
        "plt.plot(pop_f, label='simgen', linestyle='dashed')\n",
        "plt.legend()\n",
        "plt.title('Comparaison population femme')\n",
        "plt.show()"
      ],
      "execution_count": null,
      "outputs": []
    },
    {
      "cell_type": "markdown",
      "metadata": {
        "ExecuteTime": {
          "end_time": "2020-04-23T20:23:41.697297Z",
          "start_time": "2020-04-23T20:23:41.528647Z"
        },
        "id": "6YeGSm0Xlj0A"
      },
      "source": [
        "### Comparaison population par groupe d'âge"
      ]
    },
    {
      "cell_type": "code",
      "metadata": {
        "ExecuteTime": {
          "end_time": "2020-11-23T18:36:09.285293Z",
          "start_time": "2020-11-23T18:36:09.042601Z"
        },
        "id": "p3pXmQfglj0B"
      },
      "source": [
        "plt.figure(figsize=(20,10))\n",
        "plt.plot(pop_isq_agegr3_tot['[0, 25)'], label='isq 0-25', color='blue')\n",
        "plt.plot(pop_isq_agegr3_tot['[25, 65)'], label='isq 25-65', color='green')\n",
        "plt.plot(pop_isq_agegr3_tot['[65, 91)'], label='isq 65+', color='red')\n",
        "plt.plot(pop_age_gr3['(-1, 24]'], label='simgen 0-25',color='blue', linestyle='dashed')\n",
        "plt.plot(pop_age_gr3['(24, 64]'], label='simgen 25-65',color='green', linestyle='dashed')\n",
        "plt.plot(pop_age_gr3['(64, 101]'], label='simgen 65+',color='red', linestyle='dashed')\n",
        "plt.legend()\n",
        "plt.title(\"Comparaison groupe d'âge\")\n",
        "plt.show()"
      ],
      "execution_count": null,
      "outputs": []
    },
    {
      "cell_type": "markdown",
      "metadata": {
        "id": "xCE-h4r-lj0B"
      },
      "source": [
        "### Comparaison groupe d'âge de 5 ans"
      ]
    },
    {
      "cell_type": "code",
      "metadata": {
        "id": "UZSuIjctlj0B"
      },
      "source": [
        ""
      ],
      "execution_count": null,
      "outputs": []
    },
    {
      "cell_type": "code",
      "metadata": {
        "ExecuteTime": {
          "end_time": "2020-11-23T18:36:09.470574Z",
          "start_time": "2020-11-23T18:36:09.287026Z"
        },
        "scrolled": true,
        "id": "o4_jYjRLlj0B"
      },
      "source": [
        "plt.figure(figsize=(10,5))\n",
        "plt.plot(pop_isq_agegr_tot['[0, 5)'], label='isq 0-5', color='blue')\n",
        "plt.plot(pop_age_gr['(-1, 4]'], label='simgen 0-5',color='blue', linestyle='dashed')\n",
        "plt.plot(pop_isq_agegr_tot['[5, 10)'], label='isq 5-10', color='green')\n",
        "plt.plot(pop_age_gr['(4, 9]'], label='simgen 5-10',color='green', linestyle='dashed')\n",
        "plt.plot(pop_isq_agegr_tot['[10, 15)'], label='isq 10-15', color='red')\n",
        "plt.plot(pop_age_gr['(9, 14]'], label='simgen 10-15',color='red', linestyle='dashed')\n",
        "plt.legend()\n",
        "plt.title(\"Comparaison groupe d'âge 0-15\")\n",
        "plt.show()"
      ],
      "execution_count": null,
      "outputs": []
    },
    {
      "cell_type": "code",
      "metadata": {
        "ExecuteTime": {
          "end_time": "2020-11-23T18:36:09.716168Z",
          "start_time": "2020-11-23T18:36:09.472107Z"
        },
        "id": "4O4QiW8Klj0B"
      },
      "source": [
        "plt.figure(figsize=(20,10))\n",
        "plt.plot(pop_isq_agegr_tot['[15, 20)'], label='isq 15-20', color='blue')\n",
        "plt.plot(pop_age_gr['(14, 19]'], label='simgen 15-20',color='blue', linestyle='dashed')\n",
        "plt.plot(pop_isq_agegr_tot['[20, 25)'], label='isq 20-25', color='green')\n",
        "plt.plot(pop_age_gr['(19, 24]'], label='simgen 20-25',color='green', linestyle='dashed')\n",
        "plt.plot(pop_isq_agegr_tot['[25, 30)'], label='isq 25-30', color='red')\n",
        "plt.plot(pop_age_gr['(24, 29]'], label='simgen 25-30',color='red', linestyle='dashed')\n",
        "plt.legend()\n",
        "plt.title(\"Comparaison groupe d'âge 15-30\")\n",
        "plt.show()"
      ],
      "execution_count": null,
      "outputs": []
    },
    {
      "cell_type": "code",
      "metadata": {
        "ExecuteTime": {
          "end_time": "2020-11-23T18:36:09.965401Z",
          "start_time": "2020-11-23T18:36:09.718161Z"
        },
        "id": "zhYrVAwvlj0C"
      },
      "source": [
        "plt.figure(figsize=(20,10))\n",
        "plt.plot(pop_isq_agegr_tot['[30, 35)'], label='isq 30-35', color='blue')\n",
        "plt.plot(pop_age_gr['(29, 34]'], label='simgen 30-35',color='blue', linestyle='dashed')\n",
        "plt.plot(pop_isq_agegr_tot['[35, 40)'], label='isq 35-40', color='green')\n",
        "plt.plot(pop_age_gr['(34, 39]'], label='simgen 35-40',color='green', linestyle='dashed')\n",
        "plt.plot(pop_isq_agegr_tot['[40, 45)'], label='isq 40-45', color='red')\n",
        "plt.plot(pop_age_gr['(39, 44]'], label='simgen 40-45',color='red', linestyle='dashed')\n",
        "plt.legend()\n",
        "plt.title(\"Comparaison groupe d'âge 30-45\")\n",
        "plt.show()"
      ],
      "execution_count": null,
      "outputs": []
    },
    {
      "cell_type": "code",
      "metadata": {
        "ExecuteTime": {
          "end_time": "2020-11-23T18:36:10.222005Z",
          "start_time": "2020-11-23T18:36:09.966929Z"
        },
        "id": "W7X22sCmlj0C"
      },
      "source": [
        "plt.figure(figsize=(20,10))\n",
        "plt.plot(pop_isq_agegr_tot['[45, 50)'], label='isq 45-50', color='blue')\n",
        "plt.plot(pop_age_gr['(44, 49]'], label='simgen 45-50',color='blue', linestyle='dashed')\n",
        "plt.plot(pop_isq_agegr_tot['[50, 55)'], label='isq 50-55', color='green')\n",
        "plt.plot(pop_age_gr['(49, 54]'], label='simgen 50-55',color='green', linestyle='dashed')\n",
        "plt.plot(pop_isq_agegr_tot['[55, 60)'], label='isq 55-60', color='red')\n",
        "plt.plot(pop_age_gr['(54, 59]'], label='simgen 55-60',color='red', linestyle='dashed')\n",
        "plt.legend()\n",
        "plt.title(\"Comparaison groupe d'âge 45-60\")\n",
        "plt.show()"
      ],
      "execution_count": null,
      "outputs": []
    },
    {
      "cell_type": "code",
      "metadata": {
        "ExecuteTime": {
          "end_time": "2020-11-23T18:36:10.496490Z",
          "start_time": "2020-11-23T18:36:10.223710Z"
        },
        "scrolled": false,
        "id": "pIRbI5Pglj0C"
      },
      "source": [
        "plt.figure(figsize=(20,10))\n",
        "plt.plot(pop_isq_agegr_tot['[60, 65)'], label='isq 60-65', color='blue')\n",
        "plt.plot(pop_age_gr['(59, 64]'], label='simgen 60-65',color='blue', linestyle='dashed')\n",
        "plt.plot(pop_isq_agegr_tot['[65, 70)'], label='isq 65-70', color='green')\n",
        "plt.plot(pop_age_gr['(64, 69]'], label='simgen 65-70',color='green', linestyle='dashed')\n",
        "plt.plot(pop_isq_agegr_tot['[70, 75)'], label='isq 70-75', color='red')\n",
        "plt.plot(pop_age_gr['(69, 74]'], label='simgen 70-75',color='red', linestyle='dashed')\n",
        "plt.legend()\n",
        "plt.title(\"Comparaison groupe d'âge 60-75\")\n",
        "plt.show()"
      ],
      "execution_count": null,
      "outputs": []
    },
    {
      "cell_type": "code",
      "metadata": {
        "ExecuteTime": {
          "end_time": "2020-11-23T18:36:10.764745Z",
          "start_time": "2020-11-23T18:36:10.498035Z"
        },
        "scrolled": false,
        "id": "HbRwV2IPlj0C"
      },
      "source": [
        "plt.figure(figsize=(20,10))\n",
        "plt.plot(pop_isq_agegr_tot['[75, 80)'], label='isq 75-80', color='blue')\n",
        "plt.plot(pop_age_gr['(74, 79]'], label='simgen 75-80',color='blue', linestyle='dashed')\n",
        "plt.plot(pop_isq_agegr_tot['[80, 85)'], label='isq 80-85', color='green')\n",
        "plt.plot(pop_age_gr['(79, 84]'], label='simgen 80-85',color='green', linestyle='dashed')\n",
        "plt.plot(pop_isq_agegr_tot['[85, 90)'], label='isq 85-90', color='red')\n",
        "plt.plot(pop_age_gr['(84, 89]'], label='simgen 70-75',color='red', linestyle='dashed')\n",
        "plt.plot(pop_isq_agegr_tot['[90, 95)'], label='isq 90+', color='black')\n",
        "plt.plot(pop_age_gr['(89, 101]'], label='simgen 90+',color='black', linestyle='dashed')\n",
        "plt.legend()\n",
        "plt.title(\"Comparaison groupe d'âge 75-90\")\n",
        "plt.show()"
      ],
      "execution_count": null,
      "outputs": []
    },
    {
      "cell_type": "markdown",
      "metadata": {
        "id": "Y_UGO9eQlj0D"
      },
      "source": [
        "### Comparaison des naissances"
      ]
    },
    {
      "cell_type": "code",
      "metadata": {
        "ExecuteTime": {
          "end_time": "2020-11-23T18:36:10.915841Z",
          "start_time": "2020-11-23T18:36:10.766653Z"
        },
        "id": "USIvhf5-lj0D"
      },
      "source": [
        "plt.figure(figsize=(10,5))\n",
        "plt.plot(pop_isq_age_tot.loc[2017:,'0'], label='isq', color='blue')\n",
        "plt.plot(pop_age[0], label='simgen',color='blue', linestyle='dashed')\n",
        "plt.legend()\n",
        "plt.title(\"Naissances\")\n",
        "plt.show()"
      ],
      "execution_count": null,
      "outputs": []
    },
    {
      "cell_type": "markdown",
      "metadata": {
        "ExecuteTime": {
          "end_time": "2020-04-24T15:04:11.416021Z",
          "start_time": "2020-04-24T15:04:11.413165Z"
        },
        "id": "uI6tXTZklj0D"
      },
      "source": [
        "# Éducation\n",
        "\n",
        "## Extraction des données SimGen\n",
        "\n",
        "Prenant en compte school_done"
      ]
    },
    {
      "cell_type": "code",
      "metadata": {
        "ExecuteTime": {
          "end_time": "2020-11-23T18:36:11.070558Z",
          "start_time": "2020-11-23T18:36:10.918139Z"
        },
        "id": "GZwJHLgQlj0D"
      },
      "source": [
        "popeduc = base.stats.freq('educ')\n",
        "propeduc15over = base.stats.prop('educ',sub='age>=15')\n",
        "propeduc25overinsch = base.stats.prop('educ',sub='age>=25 and insch==False')\n",
        "propeduc35overinsch = base.stats.prop('educ',sub='age>=35 and insch==False')\n",
        "propeduc3544 = base.stats.prop('educ',sub='age>=35 and age<=44')\n",
        "propeduc2564 = base.stats.prop('educ',sub='age>=25 and age<=64')\n",
        "propeduc15overinsch = base.stats.prop('educ',sub='age>=15 and insch==False')\n",
        "propeduc3544insch = base.stats.prop('educ',sub='age>=35 and age<=44 and insch==False')\n",
        "propeduc2564insch = base.stats.prop('educ',sub='age>=25 and age<=64 and insch==False')"
      ],
      "execution_count": null,
      "outputs": []
    },
    {
      "cell_type": "markdown",
      "metadata": {
        "id": "9r4jsnjilj0E"
      },
      "source": [
        "## Chargement des données isq\n",
        "\n",
        "Source : Statistique Canada (SC), Enquête sur la population active (EPA), compilations de Statistique Canada et de l'Institut de la statistique du Québec réalisées grâce à l'accès aux données du Centre interuniversitaire québécois de statistiques sociales (CIQSS), membre du Réseau canadien des Centres de données de recherche (RCCDR). Adapté par l’Institut de la statistique du Québec (ISQ).\n",
        "\n",
        "Mise à jour : 28 novembre 2019\n",
        "\n",
        "https://www.stat.gouv.qc.ca/statistiques/education/niveau-scolarite/repartition-scol-ra-sexe-age.html#tri_tertr=50040000000000000&tri_sexe=1&tri_age=365&tri_stat=8403"
      ]
    },
    {
      "cell_type": "code",
      "metadata": {
        "ExecuteTime": {
          "end_time": "2020-11-23T18:36:11.082872Z",
          "start_time": "2020-11-23T18:36:11.072399Z"
        },
        "id": "MPBWihzVlj0E"
      },
      "source": [
        "pop_educ = pd.read_csv(path_data+'educ4_qc2.csv', sep=';')\n",
        "pop_educ = pop_educ[pop_educ['year']>=2000]"
      ],
      "execution_count": null,
      "outputs": []
    },
    {
      "cell_type": "markdown",
      "metadata": {
        "ExecuteTime": {
          "end_time": "2020-04-24T05:51:54.419637Z",
          "start_time": "2020-04-24T05:51:54.411446Z"
        },
        "id": "Rfaq69gwlj0E"
      },
      "source": [
        "Préparation des données par groupe d'âge"
      ]
    },
    {
      "cell_type": "code",
      "metadata": {
        "ExecuteTime": {
          "end_time": "2020-11-23T18:36:11.097411Z",
          "start_time": "2020-11-23T18:36:11.084313Z"
        },
        "id": "m5wvV7Xzlj0E"
      },
      "source": [
        "prop_educ_15over = pop_educ[pop_educ['age']=='15 ans et plus'] \n",
        "prop_educ_15over = prop_educ_15over[prop_educ_15over['sex']=='Total (hommes-femmes)']\n",
        "prop_educ_15over = prop_educ_15over.set_index('year')\n",
        "prop_educ_15over = prop_educ_15over.drop(columns=['age','sex','pop'])\n",
        "prop_educ_3544 = pop_educ[pop_educ['age']=='35-44 ans'] \n",
        "prop_educ_3544 = prop_educ_3544[prop_educ_3544['sex']=='Total (hommes-femmes)']\n",
        "prop_educ_3544 = prop_educ_3544.set_index('year')\n",
        "prop_educ_3544 = prop_educ_3544.drop(columns=['age','sex','pop'])\n",
        "prop_educ_2564 = pop_educ[pop_educ['age']=='25-64 ans'] \n",
        "prop_educ_2564 = prop_educ_2564[prop_educ_2564['sex']=='Total (hommes-femmes)']\n",
        "prop_educ_2564 = prop_educ_2564.set_index('year')\n",
        "prop_educ_2564 = prop_educ_2564.drop(columns=['age','sex','pop'])"
      ],
      "execution_count": null,
      "outputs": []
    },
    {
      "cell_type": "markdown",
      "metadata": {
        "id": "LTBvRStulj0F"
      },
      "source": [
        "Data Census \n"
      ]
    },
    {
      "cell_type": "code",
      "metadata": {
        "ExecuteTime": {
          "end_time": "2020-11-23T18:36:11.110012Z",
          "start_time": "2020-11-23T18:36:11.098803Z"
        },
        "id": "-0z8GgyTlj0F"
      },
      "source": [
        "census_educ = pd.read_csv(path_data+'census_educ.csv', sep=\";\")\n",
        "census_educ.head()"
      ],
      "execution_count": null,
      "outputs": []
    },
    {
      "cell_type": "code",
      "metadata": {
        "ExecuteTime": {
          "end_time": "2020-11-23T18:36:11.124674Z",
          "start_time": "2020-11-23T18:36:11.111677Z"
        },
        "id": "5uQ4tcDrlj0F"
      },
      "source": [
        "prop_educ_15over = census_educ[census_educ['age']=='15 ans et plus'] \n",
        "prop_educ_15over = prop_educ_15over[prop_educ_15over['sex']=='Total (hommes-femmes)']\n",
        "prop_educ_15over = prop_educ_15over.set_index('year')\n",
        "prop_educ_15over = prop_educ_15over.drop(columns=['age','sex','pop'])\n",
        "prop_educ_3544 = census_educ[census_educ['age']=='35-44 ans'] \n",
        "prop_educ_3544 = prop_educ_3544[prop_educ_3544['sex']=='Total (hommes-femmes)']\n",
        "prop_educ_3544 = prop_educ_3544.set_index('year')\n",
        "prop_educ_3544 = prop_educ_3544.drop(columns=['age','sex','pop'])\n",
        "prop_educ_2564 = census_educ[census_educ['age']=='25-64 ans'] \n",
        "prop_educ_2564 = prop_educ_2564[prop_educ_2564['sex']=='Total (hommes-femmes)']\n",
        "prop_educ_2564 = prop_educ_2564.set_index('year')\n",
        "prop_educ_2564 = prop_educ_2564.drop(columns=['age','sex','pop'])"
      ],
      "execution_count": null,
      "outputs": []
    },
    {
      "cell_type": "code",
      "metadata": {
        "ExecuteTime": {
          "end_time": "2020-11-23T18:42:28.652548Z",
          "start_time": "2020-11-23T18:42:28.643031Z"
        },
        "id": "iwhsjjMDlj0F"
      },
      "source": [
        "prop_educ_65p = census_educ[census_educ['age']=='65 ans et plus ans'] \n",
        "prop_educ_65p = prop_educ_65p[prop_educ_65p['sex']=='Total (hommes-femmes)']\n",
        "prop_educ_65p = prop_educ_65p.set_index('year')\n",
        "prop_educ_65p = prop_educ_65p.drop(columns=['age','sex','pop'])"
      ],
      "execution_count": null,
      "outputs": []
    },
    {
      "cell_type": "code",
      "metadata": {
        "ExecuteTime": {
          "end_time": "2020-11-23T18:42:40.454529Z",
          "start_time": "2020-11-23T18:42:40.439356Z"
        },
        "id": "7Dc7sr6Dlj0F"
      },
      "source": [
        "prop_educ_65p"
      ],
      "execution_count": null,
      "outputs": []
    },
    {
      "cell_type": "code",
      "metadata": {
        "ExecuteTime": {
          "end_time": "2020-11-23T18:50:59.608687Z",
          "start_time": "2020-11-23T18:50:59.577150Z"
        },
        "id": "IBESJU0Ulj0F"
      },
      "source": [
        "propeduc65over = base.stats.prop('educ',sub='age>65 and age<=69')\n",
        "propeduc65over"
      ],
      "execution_count": null,
      "outputs": []
    },
    {
      "cell_type": "markdown",
      "metadata": {
        "id": "JYZSHaxrlj0G"
      },
      "source": [
        "Petite fonction pour graphiques d'éducation"
      ]
    },
    {
      "cell_type": "code",
      "metadata": {
        "ExecuteTime": {
          "end_time": "2020-11-23T18:36:11.133301Z",
          "start_time": "2020-11-23T18:36:11.126370Z"
        },
        "id": "La0RZQgilj0G"
      },
      "source": [
        "def graph_educ(isq,simgen,title, save=False, save_path=None, save_name=None):\n",
        "    plt.figure(figsize=(10,5))\n",
        "    plt.plot(isq['prop'][isq['educ4']=='uni'],label='census uni', color='blue')\n",
        "    plt.plot(simgen['uni'], label='simgen uni',color='blue', linestyle='dashed')\n",
        "    plt.plot(isq['prop'][isq['educ4']=='dec'],label='census dec', color='green')\n",
        "    plt.plot(simgen['dec'], label='simgen dec',color='green', linestyle='dashed')\n",
        "    plt.plot(isq['prop'][isq['educ4']=='des'],label='census des', color='red')\n",
        "    plt.plot(simgen['des'], label='simgen des',color='red', linestyle='dashed')\n",
        "    plt.plot(isq['prop'][isq['educ4']=='none'],label='census none', color='black')\n",
        "    plt.plot(simgen['none'], label='simgen des',color='black', linestyle='dashed')\n",
        "    plt.legend()\n",
        "    plt.title(title)\n",
        "    if save:\n",
        "        #plt.savefig(save_path + save_name + '.jpg')\n",
        "        plt.savefig(save_path + save_name + '.png')\n",
        "    plt.show()"
      ],
      "execution_count": null,
      "outputs": []
    },
    {
      "cell_type": "markdown",
      "metadata": {
        "id": "QsEZDhJxlj0G"
      },
      "source": [
        "### Graphiques comparaison éducation"
      ]
    },
    {
      "cell_type": "code",
      "metadata": {
        "ExecuteTime": {
          "end_time": "2020-11-23T18:36:11.338503Z",
          "start_time": "2020-11-23T18:36:11.135071Z"
        },
        "id": "qsTjCzpJlj0G"
      },
      "source": [
        "graph_educ(isq=prop_educ_15over,simgen=propeduc15overinsch,title='Éducation 15 ans et plus')"
      ],
      "execution_count": null,
      "outputs": []
    },
    {
      "cell_type": "code",
      "metadata": {
        "ExecuteTime": {
          "end_time": "2020-11-23T18:36:11.567461Z",
          "start_time": "2020-11-23T18:36:11.340088Z"
        },
        "id": "MaHBHimxlj0G"
      },
      "source": [
        "graph_educ(isq=prop_educ_3544, simgen=propeduc3544insch, title='Éducation 35-44 ans')"
      ],
      "execution_count": null,
      "outputs": []
    },
    {
      "cell_type": "code",
      "metadata": {
        "ExecuteTime": {
          "end_time": "2020-11-23T18:36:12.225215Z",
          "start_time": "2020-11-23T18:36:11.569447Z"
        },
        "id": "KEhnloFVlj0G"
      },
      "source": [
        "graph_educ(isq=prop_educ_2564,simgen=propeduc2564,\n",
        "           title=\"Figure3: Proportion de la population par niveau de scolarité, 25-64 ans, Québec, 2006-2040\",\n",
        "          save=True, save_path=\"/Users/ydecarie/Dropbox (CEDIA)/OLG_CAN/demo/simgen-docs/figure/\",\n",
        "          #save=True, save_path=\"/Users/juliennavaux/Dropbox (CEDIA)/OLG_CAN/demo/simgen-docs/figure/\",\n",
        "          save_name=\"educ_2564\")"
      ],
      "execution_count": null,
      "outputs": []
    },
    {
      "cell_type": "code",
      "metadata": {
        "ExecuteTime": {
          "end_time": "2020-11-23T18:36:12.228080Z",
          "start_time": "2020-11-23T18:33:26.691Z"
        },
        "scrolled": false,
        "id": "thCDZFLFlj0H"
      },
      "source": [
        "graph_educ(isq=prop_educ_2564,simgen=propeduc2564insch,title='Éducation 25-64 ans')"
      ],
      "execution_count": null,
      "outputs": []
    },
    {
      "cell_type": "markdown",
      "metadata": {
        "ExecuteTime": {
          "end_time": "2020-04-24T06:45:13.243364Z",
          "start_time": "2020-04-24T06:45:13.232430Z"
        },
        "id": "fG1YQ5-glj0H"
      },
      "source": [
        "      Tableau BDSPS 25-65 ans\n",
        "      \n",
        "      études |      Freq.           Percent        Cum.\n",
        "------------+-----------------------------------\n",
        "          dec | 11,957.777       37.21       37.21\n",
        "          des | 7,941.3249       24.71       61.92\n",
        "       none | 5,554.9971       17.29       79.21\n",
        "          uni | 6,681.9009       20.79      100.00\n",
        "Les premières années du modèle ne collent pas avec la base qui est similaire à l'ISQ "
      ]
    },
    {
      "cell_type": "markdown",
      "metadata": {
        "ExecuteTime": {
          "end_time": "2020-04-24T14:03:20.648656Z",
          "start_time": "2020-04-24T14:03:20.414353Z"
        },
        "id": "_3OCGDNFlj0H"
      },
      "source": [
        "## Comparaison des personnes en couple\n",
        "\n"
      ]
    },
    {
      "cell_type": "markdown",
      "metadata": {
        "id": "bPGn379nlj0H"
      },
      "source": [
        "### Extraction données SimGen\n",
        "\n",
        "Proportion des personnes en couple par groupe d'âge"
      ]
    },
    {
      "cell_type": "code",
      "metadata": {
        "ExecuteTime": {
          "end_time": "2020-11-23T18:36:12.229446Z",
          "start_time": "2020-11-23T18:33:26.749Z"
        },
        "id": "QP08C4dulj0H"
      },
      "source": [
        "popms = base.stats.freq('married')\n",
        "propms15plus = base.stats.prop('married', sub=\"age>=15\")\n",
        "propms1544 = base.stats.prop('married', sub=\"age>=15 and age<=44\")\n",
        "propms4564 = base.stats.prop('married', sub=\"age>=45 and age<=64\")\n",
        "propms65plus = base.stats.prop('married', sub=\"age>=65\")\n",
        "propms15plus.columns= propms15plus.columns.astype('str')\n",
        "propms1544.columns= propms1544.columns.astype('str')\n",
        "propms4564.columns= propms4564.columns.astype('str')\n",
        "propms65plus.columns= propms65plus.columns.astype('str')"
      ],
      "execution_count": null,
      "outputs": []
    },
    {
      "cell_type": "markdown",
      "metadata": {
        "ExecuteTime": {
          "end_time": "2020-04-24T08:39:34.615983Z",
          "start_time": "2020-04-24T08:39:34.603854Z"
        },
        "id": "lvzwSmEelj0H"
      },
      "source": [
        "### Extraction données Statistique Canada\n",
        "\n",
        "Estimations de la population au 1er juillet, selon l'état matrimonial ou l'état matrimonial légal, l'âge et le sexe, Tableau : 17-10-0060-01\n",
        "\n",
        "https://www150.statcan.gc.ca/t1/tbl1/fr/cv.action?pid=1710006001"
      ]
    },
    {
      "cell_type": "code",
      "metadata": {
        "ExecuteTime": {
          "end_time": "2020-11-23T18:36:12.230612Z",
          "start_time": "2020-11-23T18:33:26.754Z"
        },
        "id": "kp0OJe_3lj0H"
      },
      "source": [
        "pop_ms = pd.read_csv(path_data+'married_qc.csv', sep=';')\n",
        "pop_ms=pop_ms[pop_ms['married']==1]\n",
        "pop_ms_15plus = pop_ms[pop_ms[\"age\"]==\"15 ans et plus\"]\n",
        "pop_ms_15plus = pop_ms_15plus.set_index(pop_ms_15plus[\"year\"])\n",
        "pop_ms_1544 = pop_ms[pop_ms[\"age\"]==\"15 à 44 ans\"]\n",
        "pop_ms_1544 = pop_ms_1544.set_index(pop_ms_1544[\"year\"])\n",
        "pop_ms_4564 = pop_ms[pop_ms[\"age\"]==\"45 à 64 ans\"]\n",
        "pop_ms_4564 = pop_ms_4564.set_index(pop_ms_4564[\"year\"])\n",
        "pop_ms_65plus = pop_ms[pop_ms[\"age\"]==\"65 ans et plus\"]\n",
        "pop_ms_65plus = pop_ms_65plus.set_index(pop_ms_65plus[\"year\"])"
      ],
      "execution_count": null,
      "outputs": []
    },
    {
      "cell_type": "markdown",
      "metadata": {
        "id": "QWAxp3Vwlj0I"
      },
      "source": [
        "Petite fonction pour graphiques de comparaison des unions"
      ]
    },
    {
      "cell_type": "code",
      "metadata": {
        "ExecuteTime": {
          "end_time": "2020-11-23T18:36:12.232062Z",
          "start_time": "2020-11-23T18:33:26.760Z"
        },
        "id": "22s6YXxhlj0I"
      },
      "source": [
        "def graph_union(isq,simgen,title, save=False, save_path=None, save_name=None):\n",
        "    plt.figure(figsize=(10,5))\n",
        "    plt.plot(isq['prop'], label='isq couple',color='blue')\n",
        "    plt.plot(1-isq['prop'],label=\"isq single\",color='green')\n",
        "    plt.plot(simgen[\"True\"],label=\"simgen couple\", color=\"blue\", linestyle='dashed')\n",
        "    plt.plot(1-simgen[\"True\"], label='simgen single',color='green', linestyle='dashed')\n",
        "    plt.legend()\n",
        "    plt.title(title)\n",
        "    if save:\n",
        "        #plt.savefig(save_path + save_name + '.jpg')\n",
        "        plt.savefig(save_path + save_name + '.png')"
      ],
      "execution_count": null,
      "outputs": []
    },
    {
      "cell_type": "markdown",
      "metadata": {
        "id": "Ctiu5wTplj0I"
      },
      "source": [
        "### Graphiques comparaioson des personnes en couple par groupe d'âge"
      ]
    },
    {
      "cell_type": "code",
      "metadata": {
        "ExecuteTime": {
          "end_time": "2020-11-23T18:36:12.233283Z",
          "start_time": "2020-11-23T18:33:26.765Z"
        },
        "id": "IcNjv26llj0I"
      },
      "source": [
        "graph_union(pop_ms_15plus,propms15plus,title=\" Figure 4: Proportion des personnes de 15 ans et plus en couple, Québec, 2000-2040\", save=True,\n",
        "            save_path=\"/Users/ydecarie/Dropbox (CEDIA)/OLG_CAN/demo/simgen-docs/figure/\", \n",
        "            #save_path=\"/Users/juliennavaux/Dropbox (CEDIA)/OLG_CAN/demo/simgen-docs/figure/\",\n",
        "            save_name=\"union_15over\")"
      ],
      "execution_count": null,
      "outputs": []
    },
    {
      "cell_type": "code",
      "metadata": {
        "ExecuteTime": {
          "end_time": "2020-11-23T18:36:12.235373Z",
          "start_time": "2020-11-23T18:33:26.766Z"
        },
        "id": "CgNUFcnDlj0I"
      },
      "source": [
        "graph_union(pop_ms_1544,propms1544,title=\"Union 15-44 ans\")"
      ],
      "execution_count": null,
      "outputs": []
    },
    {
      "cell_type": "code",
      "metadata": {
        "ExecuteTime": {
          "end_time": "2020-11-23T18:36:12.237036Z",
          "start_time": "2020-11-23T18:33:26.767Z"
        },
        "id": "YDJIcSTYlj0I"
      },
      "source": [
        "graph_union(pop_ms_4564,propms4564,title=\"Union 45-64 ans\")"
      ],
      "execution_count": null,
      "outputs": []
    },
    {
      "cell_type": "code",
      "metadata": {
        "ExecuteTime": {
          "end_time": "2020-11-23T18:36:12.239705Z",
          "start_time": "2020-11-23T18:33:26.769Z"
        },
        "id": "dytlQvAslj0I"
      },
      "source": [
        "graph_union(pop_ms_65plus,propms65plus,title=\"Union 65 plus\")"
      ],
      "execution_count": null,
      "outputs": []
    },
    {
      "cell_type": "markdown",
      "metadata": {
        "id": "c9MXoAjelj0I"
      },
      "source": [
        "Comparaison education données de Statistiques Canada"
      ]
    },
    {
      "cell_type": "code",
      "metadata": {
        "ExecuteTime": {
          "end_time": "2020-11-23T18:36:12.241087Z",
          "start_time": "2020-11-23T18:33:26.772Z"
        },
        "id": "_95Sultjlj0J"
      },
      "source": [
        "pop_educ_stc = pd.read_csv(path_data+'educ4_qc_stc.csv', sep=';')\n",
        "pop_educ_stc = pop_educ_stc[pop_educ_stc['year']>=2000]\n",
        "pop_educ_stc"
      ],
      "execution_count": null,
      "outputs": []
    },
    {
      "cell_type": "code",
      "metadata": {
        "ExecuteTime": {
          "end_time": "2020-11-23T18:36:12.242419Z",
          "start_time": "2020-11-23T18:33:26.774Z"
        },
        "id": "RQdqKXNDlj0J"
      },
      "source": [
        "prop_educ_stc_15over = pop_educ_stc[pop_educ_stc['age']=='15 ans et plus'] \n",
        "prop_educ_stc_15over = prop_educ_stc_15over[prop_educ_stc_15over['sex']=='Total (hommes-femmes)']\n",
        "prop_educ_stc_15over = prop_educ_stc_15over.set_index('year')\n",
        "prop_educ_stc_15over = prop_educ_stc_15over.drop(columns=['age','sex','pop'])\n",
        "prop_educ_stc_25over = pop_educ_stc[pop_educ_stc['age']=='25 ans et plus'] \n",
        "prop_educ_stc_25over = prop_educ_stc_25over[prop_educ_stc_25over['sex']=='Total (hommes-femmes)']\n",
        "prop_educ_stc_25over = prop_educ_stc_25over.set_index('year')\n",
        "prop_educ_stc_25over = prop_educ_stc_25over.drop(columns=['age','sex','pop'])\n",
        "\n",
        "prop_educ_stc_35over = pop_educ_stc[pop_educ_stc['age']=='25 ans et plus'] \n",
        "prop_educ_stc_35over = prop_educ_stc_35over[prop_educ_stc_35over['sex']=='Total (hommes-femmes)']\n",
        "prop_educ_stc_35over = prop_educ_stc_35over.set_index('year')\n",
        "prop_educ_stc_35over = prop_educ_stc_35over.drop(columns=['age','sex','pop'])\n",
        "\n",
        "prop_educ_stc_3544 = pop_educ_stc[pop_educ_stc['age']=='35-44 ans'] \n",
        "prop_educ_stc_3544 = prop_educ_stc_3544[prop_educ_stc_3544['sex']=='Total (hommes-femmes)']\n",
        "prop_educ_stc_3544 = prop_educ_stc_3544.set_index('year')\n",
        "prop_educ_stc_3544 = prop_educ_stc_3544.drop(columns=['age','sex','pop'])\n",
        "prop_educ_stc_2564 = pop_educ_stc[pop_educ_stc['age']=='25-64 ans'] \n",
        "prop_educ_stc_2564 = prop_educ_stc_2564[prop_educ_stc_2564['sex']=='Total (hommes-femmes)']\n",
        "prop_educ_stc_2564 = prop_educ_stc_2564.set_index('year')\n",
        "prop_educ_stc_2564 = prop_educ_stc_2564.drop(columns=['age','sex','pop'])"
      ],
      "execution_count": null,
      "outputs": []
    },
    {
      "cell_type": "code",
      "metadata": {
        "ExecuteTime": {
          "end_time": "2020-11-23T18:36:12.243952Z",
          "start_time": "2020-11-23T18:33:26.775Z"
        },
        "id": "wd_PaR7ilj0J"
      },
      "source": [
        "graph_educ(isq=prop_educ_stc_25over,simgen=propeduc25overinsch,title='Éducation 25 ans et plus')"
      ],
      "execution_count": null,
      "outputs": []
    },
    {
      "cell_type": "code",
      "metadata": {
        "ExecuteTime": {
          "end_time": "2020-11-23T18:36:12.245694Z",
          "start_time": "2020-11-23T18:33:26.776Z"
        },
        "id": "U9f1N3fVlj0J"
      },
      "source": [
        "prop_educ_stc_35over"
      ],
      "execution_count": null,
      "outputs": []
    },
    {
      "cell_type": "code",
      "metadata": {
        "ExecuteTime": {
          "end_time": "2020-11-23T18:36:12.246977Z",
          "start_time": "2020-11-23T18:33:26.778Z"
        },
        "id": "1abEmyIflj0J"
      },
      "source": [
        "prop_educ_15over"
      ],
      "execution_count": null,
      "outputs": []
    },
    {
      "cell_type": "code",
      "metadata": {
        "ExecuteTime": {
          "end_time": "2020-11-23T18:36:12.248611Z",
          "start_time": "2020-11-23T18:33:26.779Z"
        },
        "id": "Q-MdF_aYlj0J"
      },
      "source": [
        "graph_educ(isq=prop_educ_stc_35over, simgen=propeduc35overinsch, title=\"\")"
      ],
      "execution_count": null,
      "outputs": []
    },
    {
      "cell_type": "markdown",
      "metadata": {
        "id": "g6ukQ4jGlj0J"
      },
      "source": [
        "## Graphique Étudiants"
      ]
    },
    {
      "cell_type": "code",
      "metadata": {
        "ExecuteTime": {
          "end_time": "2020-11-23T18:36:12.249822Z",
          "start_time": "2020-11-23T18:33:26.784Z"
        },
        "id": "df1x4zzAlj0J"
      },
      "source": [
        "base.stats.freq(\"age\", sub='insch==True and age>=17 and age<=35').T.sum().plot()"
      ],
      "execution_count": null,
      "outputs": []
    },
    {
      "cell_type": "code",
      "metadata": {
        "ExecuteTime": {
          "end_time": "2020-11-23T18:36:12.251389Z",
          "start_time": "2020-11-23T18:33:26.785Z"
        },
        "id": "VDlvV7Cqlj0K"
      },
      "source": [
        "base.stats.freq(\"age\", sub='age>=16 and age <25').plot()"
      ],
      "execution_count": null,
      "outputs": []
    },
    {
      "cell_type": "markdown",
      "metadata": {
        "ExecuteTime": {
          "end_time": "2020-04-29T14:26:57.738980Z",
          "start_time": "2020-04-29T14:26:57.736248Z"
        },
        "id": "DGx_6TSLlj0K"
      },
      "source": [
        "## Famille"
      ]
    },
    {
      "cell_type": "code",
      "metadata": {
        "ExecuteTime": {
          "end_time": "2020-11-23T18:36:12.252722Z",
          "start_time": "2020-11-23T18:33:26.791Z"
        },
        "id": "Go1CQSe-lj0K"
      },
      "source": [
        "base.stats.freq(\"nkids\", sub=\"nkids>0\").T.sum().plot()"
      ],
      "execution_count": null,
      "outputs": []
    },
    {
      "cell_type": "code",
      "metadata": {
        "ExecuteTime": {
          "end_time": "2020-11-23T18:36:12.254486Z",
          "start_time": "2020-11-23T18:33:26.794Z"
        },
        "id": "zFLZ-n7ulj0K"
      },
      "source": [
        "kids_count = [0,1,2,8]\n",
        "base.stats.freq(\"nkids\", bins=kids_count).plot()"
      ],
      "execution_count": null,
      "outputs": []
    },
    {
      "cell_type": "code",
      "metadata": {
        "ExecuteTime": {
          "end_time": "2020-11-23T18:36:12.256820Z",
          "start_time": "2020-11-23T18:33:26.795Z"
        },
        "id": "ybIfNWZGlj0K"
      },
      "source": [
        "nkids_couple=base.stats.freq(\"nkids\", bins=kids_count, sub=\"married==True\")\n",
        "nkids_couple=nkids_couple/2\n",
        "nkids_couple.plot()"
      ],
      "execution_count": null,
      "outputs": []
    },
    {
      "cell_type": "code",
      "metadata": {
        "ExecuteTime": {
          "end_time": "2020-11-23T18:36:12.257979Z",
          "start_time": "2020-11-23T18:33:26.798Z"
        },
        "id": "5wi_Fw9Blj0K"
      },
      "source": [
        "nkids_single=base.stats.freq(\"nkids\", bins=kids_count, sub=\"married==False\")\n",
        "nkids_single.plot()"
      ],
      "execution_count": null,
      "outputs": []
    },
    {
      "cell_type": "code",
      "metadata": {
        "ExecuteTime": {
          "end_time": "2020-04-30T05:05:35.344122Z",
          "start_time": "2020-04-30T05:05:35.071692Z"
        },
        "id": "JrXw_0hBlj0K"
      },
      "source": [
        ""
      ],
      "execution_count": null,
      "outputs": []
    },
    {
      "cell_type": "code",
      "metadata": {
        "ExecuteTime": {
          "end_time": "2020-11-23T18:36:12.259388Z",
          "start_time": "2020-11-23T18:33:26.800Z"
        },
        "scrolled": true,
        "id": "APoiB1mwlj0K"
      },
      "source": [
        "nkids= nkids_couple+nkids_single\n",
        "nkids.plot()"
      ],
      "execution_count": null,
      "outputs": []
    },
    {
      "cell_type": "code",
      "metadata": {
        "ExecuteTime": {
          "end_time": "2020-11-23T18:36:12.261071Z",
          "start_time": "2020-11-23T18:33:26.803Z"
        },
        "id": "s19pE633lj0L"
      },
      "source": [
        "bk = [0, 8]\n",
        "kids_couple=base.stats.freq(\"nkids\", bins=bk, sub=\"married==True\")\n",
        "kids_couple=kids_couple/2\n",
        "kids_single=base.stats.freq(\"nkids\", bins=bk, sub=\"married==False\")\n",
        "kids = kids_single+kids_couple\n",
        "kids.plot()"
      ],
      "execution_count": null,
      "outputs": []
    },
    {
      "cell_type": "code",
      "metadata": {
        "ExecuteTime": {
          "end_time": "2020-11-23T18:36:12.262495Z",
          "start_time": "2020-11-23T18:33:26.804Z"
        },
        "id": "Ij0RjzYAlj0L"
      },
      "source": [
        "base.stats.freq('age', sub=\"age==18\").plot()"
      ],
      "execution_count": null,
      "outputs": []
    },
    {
      "cell_type": "code",
      "metadata": {
        "ExecuteTime": {
          "end_time": "2020-11-23T18:36:12.263665Z",
          "start_time": "2020-11-23T18:33:26.806Z"
        },
        "id": "-SPpF20Clj0L"
      },
      "source": [
        "base.stats.freq(\"age\", sub=\"insch==True and age>34\").T.sum().plot()"
      ],
      "execution_count": null,
      "outputs": []
    },
    {
      "cell_type": "code",
      "metadata": {
        "ExecuteTime": {
          "end_time": "2020-11-23T18:36:12.264977Z",
          "start_time": "2020-11-23T18:33:26.808Z"
        },
        "scrolled": true,
        "id": "WVevTqr1lj0L"
      },
      "source": [
        "base.stats.freq(\"age\", sub=\"insch==True and age>=35 and age<=65\").T.sum().plot()"
      ],
      "execution_count": null,
      "outputs": []
    },
    {
      "cell_type": "code",
      "metadata": {
        "ExecuteTime": {
          "end_time": "2020-11-23T18:36:12.266167Z",
          "start_time": "2020-11-23T18:33:26.810Z"
        },
        "id": "GOrI3EzDlj0L"
      },
      "source": [
        "base.stats.freq(\"age\", sub=\"insch==True and age>=35 and age<=45\").plot()"
      ],
      "execution_count": null,
      "outputs": []
    },
    {
      "cell_type": "code",
      "metadata": {
        "id": "hdQKWjpWlj0L"
      },
      "source": [
        ""
      ],
      "execution_count": null,
      "outputs": []
    }
  ]
}